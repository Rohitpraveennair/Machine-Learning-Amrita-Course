{
 "cells": [
  {
   "cell_type": "code",
   "execution_count": 5,
   "id": "c2b2b165",
   "metadata": {
    "scrolled": true
   },
   "outputs": [],
   "source": [
    "#Rohit Praveen Nair"
   ]
  },
  {
   "cell_type": "code",
   "execution_count": 4,
   "id": "3fee8e60",
   "metadata": {},
   "outputs": [
    {
     "name": "stdout",
     "output_type": "stream",
     "text": [
      "Enter a string : Clustering\n",
      "Vowels =  3\n",
      "Consonants =  7\n"
     ]
    }
   ],
   "source": [
    "# Q1\n",
    "def isVowel(ch):\n",
    "    vowels=['A','E',\"I\",\"O\",\"U\",'a','e','i','o','u']\n",
    "    if ch in vowels:\n",
    "        return True\n",
    "    else:\n",
    "        return False\n",
    "st=input(\"Enter a string : \")\n",
    "vow=0\n",
    "con=0\n",
    "for i in st:\n",
    "    a=isVowel(i)\n",
    "    if a==True:\n",
    "        vow+=1\n",
    "    else:\n",
    "        con+=1\n",
    "print(\"Vowels = \", vow)\n",
    "print(\"Consonants = \",con)"
   ]
  },
  {
   "cell_type": "code",
   "execution_count": 2,
   "id": "aafb0fa8",
   "metadata": {},
   "outputs": [
    {
     "name": "stdout",
     "output_type": "stream",
     "text": [
      "Enter the size of matrix A (rows columns): 3 3\n",
      "Enter the elements for matrix A one row :\n",
      "1 2 3\n",
      "4 5 6\n",
      "7 8 9\n",
      "Enter the size of matrix B (rows columns): 3 3\n",
      "Enter the elements for matrix B one row :\n",
      "2 4 6\n",
      "8 3 6\n",
      "2 6 8\n",
      "The resulting matrix AB is:\n",
      "24 28 42\n",
      "60 67 102\n",
      "96 106 162\n"
     ]
    }
   ],
   "source": [
    "#Q2\n",
    "def get_matrix(name):\n",
    "    rows, cols = map(int, input(f\"Enter the size of matrix {name} (rows columns): \").split())\n",
    "    print(f\"Enter the elements for matrix {name} one row :\")\n",
    "    matrix = []\n",
    "    for i in range(rows):\n",
    "        matrix.append(list(map(int, input().split())))\n",
    "    return matrix\n",
    "\n",
    "def multiplicable(A, B):\n",
    "    return len(A[0]) == len(B)\n",
    "\n",
    "def multiply(A, B):\n",
    "    result = []\n",
    "    for i in range(len(A)):\n",
    "        row = []\n",
    "        for j in range(len(B[0])):\n",
    "            value = sum(A[i][k] * B[k][j] for k in range(len(B)))\n",
    "            row.append(value)\n",
    "        result.append(row)\n",
    "    return result\n",
    "\n",
    "def display(matrix):\n",
    "    for row in matrix:\n",
    "        print(\" \".join(map(str, row)))\n",
    "\n",
    "A = get_matrix(\"A\")\n",
    "B = get_matrix(\"B\")\n",
    "\n",
    "if not multiplicable(A, B):\n",
    "    print(\"Matrices cannot be multiplied.\")\n",
    "    exit\n",
    "\n",
    "result = multiply(A, B)\n",
    "print(\"The resulting matrix AB is:\")\n",
    "display(result)"
   ]
  },
  {
   "cell_type": "code",
   "execution_count": 1,
   "id": "0eadcf28",
   "metadata": {},
   "outputs": [
    {
     "name": "stdout",
     "output_type": "stream",
     "text": [
      "Enter the size of matrix A (rows columns): 3 3\n",
      "Enter the elements for matrix A one row at a time:\n",
      "1 2 3\n",
      "4 5 6\n",
      "7 8 9\n",
      "Enter the size of matrix B (rows columns): 2 2 \n",
      "Enter the elements for matrix B one row at a time:\n",
      "1 2\n",
      "3 4\n",
      "Matrices cannot be multiplied.\n"
     ]
    }
   ],
   "source": [
    "#Q2(error case)\n",
    "def get_matrix(name):\n",
    "    rows, cols = map(int, input(f\"Enter the size of matrix {name} (rows columns): \").split())\n",
    "    print(f\"Enter the elements for matrix {name} one row at a time:\")\n",
    "    matrix = []\n",
    "    for i in range(rows):\n",
    "        matrix.append(list(map(int, input().split())))\n",
    "    return matrix\n",
    "\n",
    "def multiplicable(A, B):\n",
    "    return len(A[0]) == len(B)\n",
    "\n",
    "def multiply(A, B):\n",
    "    result = []\n",
    "    for i in range(len(A)):  \n",
    "        row = []\n",
    "        for j in range(len(B[0])): \n",
    "            value = sum(A[i][k] * B[k][j] for k in range(len(B)))  #Dot product\n",
    "            row.append(value)\n",
    "        result.append(row)\n",
    "    return result\n",
    "\n",
    "def display(matrix):\n",
    "   \n",
    "    for row in matrix:\n",
    "        print(\" \".join(map(str, row)))\n",
    "        \n",
    "A = get_matrix(\"A\")\n",
    "B = get_matrix(\"B\")\n",
    "\n",
    "if not multiplicable(A, B):\n",
    "    print(\"Matrices cannot be multiplied.\")\n",
    "else:\n",
    "    result = multiply(A, B)\n",
    "    print(\"The resulting matrix AB is:\")\n",
    "    display(result)\n"
   ]
  },
  {
   "cell_type": "code",
   "execution_count": 2,
   "id": "8788a483",
   "metadata": {},
   "outputs": [
    {
     "name": "stdout",
     "output_type": "stream",
     "text": [
      "1st list : 1 2 3 4 5 6\n",
      "2nd list : 9 8 7 6 5 4\n",
      "Number of common elements:  3\n"
     ]
    }
   ],
   "source": [
    "#3\n",
    "def same(l1, l2):\n",
    "    return len(set(l1) & set(l2))\n",
    "\n",
    "l1 = list(map(int, input(\"1st list : \").split()))\n",
    "l2 = list(map(int, input(\"2nd list : \").split()))\n",
    "count = same(l1, l2)\n",
    "print(\"Number of common elements: \",count)"
   ]
  },
  {
   "cell_type": "code",
   "execution_count": 3,
   "id": "c626eeb0",
   "metadata": {},
   "outputs": [
    {
     "name": "stdout",
     "output_type": "stream",
     "text": [
      "Enter the Matrix Size (R C): 3 3\n",
      "Enter the elements for each row:\n",
      "2 3 4\n",
      "6 7 8\n",
      "10 12 15\n",
      "Transpose of matrix  is:\n",
      "2 6 10\n",
      "3 7 12\n",
      "4 8 15\n"
     ]
    }
   ],
   "source": [
    "#4\n",
    "def get_matrix():\n",
    "    rows, cols = map(int, input(\"Enter the Matrix Size (R C): \").split())\n",
    "    print(\"Enter the elements for each row:\")\n",
    "    matrix = []\n",
    "    for i in range(rows):\n",
    "        matrix.append(list(map(int, input().split())))\n",
    "    return matrix\n",
    "def display(matrix):\n",
    "    for row in matrix:\n",
    "        print(\" \".join(map(str, row)))\n",
    "\n",
    "def transpose(matrix):\n",
    "    r= len(matrix)\n",
    "    c= len(matrix[0])\n",
    "    trans = [[matrix[j][i] for j in range(r)] for i in range(c)]\n",
    "    return trans\n",
    "\n",
    "A = get_matrix()\n",
    "print(\"Transpose of matrix  is:\")\n",
    "display(transpose(A))\n"
   ]
  },
  {
   "cell_type": "code",
   "execution_count": null,
   "id": "dd1e3aa4",
   "metadata": {},
   "outputs": [],
   "source": []
  }
 ],
 "metadata": {
  "kernelspec": {
   "display_name": "Python 3 (ipykernel)",
   "language": "python",
   "name": "python3"
  },
  "language_info": {
   "codemirror_mode": {
    "name": "ipython",
    "version": 3
   },
   "file_extension": ".py",
   "mimetype": "text/x-python",
   "name": "python",
   "nbconvert_exporter": "python",
   "pygments_lexer": "ipython3",
   "version": "3.11.7"
  }
 },
 "nbformat": 4,
 "nbformat_minor": 5
}
